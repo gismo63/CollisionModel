{
 "cells": [
  {
   "cell_type": "code",
   "execution_count": 1,
   "metadata": {},
   "outputs": [
    {
     "name": "stdout",
     "output_type": "stream",
     "text": [
      "(CVXPY) Jan 25 02:03:33 PM: Encountered unexpected exception importing solver OSQP:\n",
      "ImportError('DLL load failed while importing qdldl: The specified module could not be found.')\n"
     ]
    }
   ],
   "source": [
    "from qutip import *\n",
    "\n",
    "import numpy as np\n",
    "\n",
    "import matplotlib.pyplot as plt\n",
    "\n",
    "from numba import jit, complex128"
   ]
  },
  {
   "cell_type": "code",
   "execution_count": 2,
   "metadata": {},
   "outputs": [],
   "source": [
    "def Hxyz(N, Jx, Jy, Jz, b, periodic=False):\n",
    "    \"\"\"Generates an XYZ spin chain Hamiltonian with N spins\"\"\"\n",
    "    J_list = [Jx, Jy, Jz]\n",
    "    sigma_list = [sigmax(), sigmay(), sigmaz()]\n",
    "    if N <= 1:\n",
    "        return qeye(2**N)\n",
    "    Ham = 0\n",
    "    for i in range(N-1):\n",
    "        for j in range(3):\n",
    "            spin_list = [sigma_list[j] if k == i or k == i+1 else qeye(2) for k in range(N)]\n",
    "            Ham += J_list[j]*tensor(spin_list)\n",
    "    for i in range(N):\n",
    "        spin_list = [sigmaz() if k == i else qeye(2) for k in range(N)]\n",
    "        Ham += b*tensor(spin_list)\n",
    "    if periodic:\n",
    "        for j in range(3):\n",
    "            spin_list = [sigma_list[j] if k == 0 or k == N-1 else qeye(2) for k in range(N)]\n",
    "            Ham += J_list[j]*tensor(spin_list)\n",
    "    return Ham"
   ]
  },
  {
   "cell_type": "code",
   "execution_count": 3,
   "metadata": {},
   "outputs": [],
   "source": [
    "@jit(nopython=True)\n",
    "def manual_trace(matrix):\n",
    "    trace = 0.0 + 0.0j  # Explicitly specifying as complex\n",
    "    for i in range(matrix.shape[0]):\n",
    "        trace += matrix[i, i]\n",
    "    return trace\n",
    "\n",
    "@jit(nopython=True)\n",
    "def partial_trace_final(state, final_subsys_size, remainder_size):\n",
    "    if state.ndim != 2 or state.shape[0] != final_subsys_size * remainder_size:\n",
    "        raise ValueError(\"Invalid state dimensions\")\n",
    "\n",
    "    reshaped_state = state.reshape((remainder_size, final_subsys_size, remainder_size, final_subsys_size))\n",
    "    \n",
    "    # Manual trace computation with consistent data types\n",
    "    traced_state = np.zeros((remainder_size, remainder_size), dtype=np.complex128)\n",
    "    for i in range(remainder_size):\n",
    "        for j in range(remainder_size):\n",
    "            traced_state[i, j] = manual_trace(reshaped_state[i, :, j, :])\n",
    "\n",
    "    normalization = manual_trace(traced_state)\n",
    "    if normalization != 0:\n",
    "        traced_state /= normalization\n",
    "\n",
    "    return traced_state"
   ]
  },
  {
   "cell_type": "code",
   "execution_count": 4,
   "metadata": {},
   "outputs": [
    {
     "name": "stdout",
     "output_type": "stream",
     "text": [
      "[[0.5+0.j 0. +0.j]\n",
      " [0. +0.j 0.5+0.j]]\n"
     ]
    }
   ],
   "source": [
    "# Sample 4x4 density matrix for a 2-qubit system\n",
    "state = np.array([[0.5, 0.0, 0.0, 0.5],\n",
    "                  [0.0, 0.0, 0.0, 0.0],\n",
    "                  [0.0, 0.0, 0.0, 0.0],\n",
    "                  [0.5, 0.0, 0.0, 0.5]])\n",
    "\n",
    "# Subsystems to trace out (second qubit)\n",
    "subsystems = [1]\n",
    "\n",
    "# Dimension list for each subsystem (2-qubit system)\n",
    "dim_list = [2, 2]\n",
    "\n",
    "# Now you can call the partial_trace function with these inputs\n",
    "state2 = np.array([1/2, -1j/2, 1j/2, 1/2])\n",
    "result1 = partial_trace_final(state, 2, 2)\n",
    "print(result1)"
   ]
  },
  {
   "cell_type": "code",
   "execution_count": null,
   "metadata": {},
   "outputs": [],
   "source": [
    "#set all the relevant parameters\n",
    "bfield = 0.5\n",
    "J = 1.\n",
    "gamma = 1.\n",
    "Delta = 0.\n",
    "\n",
    "num_collision = 1200\n",
    "collision_duration = 0.5\n",
    "timestep = 0.01\n",
    "\n",
    "num_spins = 4"
   ]
  },
  {
   "cell_type": "code",
   "execution_count": null,
   "metadata": {},
   "outputs": [],
   "source": [
    "#generate initial states\n",
    "np.random.seed(10) #10 best for 4 spins\n",
    "psi_0 = tensor([rand_ket_haar(2) for _ in range(num_spins)])\n",
    "rho_S_0 = psi_0 * psi_0.dag()\n",
    "\n",
    "beta = 3.5 #temperature\n",
    "g_prob = 0.5*(1+np.tanh(beta))\n",
    "rho_A = g_prob * (basis(2,1) * basis(2,1).dag()) + (1-g_prob) * (basis(2,0) * basis(2,0).dag())\n",
    "\n",
    "#expectation values to calculate\n",
    "expec_list_S = [tensor([sigmax() if k == i else qeye(2) for k in range(num_spins)]) \n",
    "              for i in range(num_spins)] + [tensor([sigmay() if k == i else qeye(2) for k in range(num_spins)]) \n",
    "              for i in range(num_spins)]\n",
    "\n",
    "#system and interaction Hamiltonians\n",
    "H_S = -Hxyz(num_spins, J, J*gamma, J*Delta, bfield, periodic=True)\n",
    "H_SA = 0.5*(tensor(sigmax(), *[qeye(2) for _ in range(num_spins - 1)], sigmax()) \n",
    "          + tensor(sigmay(), *[qeye(2) for _ in range(num_spins - 1)], sigmay()))"
   ]
  }
 ],
 "metadata": {
  "kernelspec": {
   "display_name": "qiskit-stable",
   "language": "python",
   "name": "python3"
  },
  "language_info": {
   "codemirror_mode": {
    "name": "ipython",
    "version": 3
   },
   "file_extension": ".py",
   "mimetype": "text/x-python",
   "name": "python",
   "nbconvert_exporter": "python",
   "pygments_lexer": "ipython3",
   "version": "3.10.13"
  }
 },
 "nbformat": 4,
 "nbformat_minor": 2
}
